{
 "cells": [
  {
   "cell_type": "code",
   "execution_count": 8,
   "metadata": {},
   "outputs": [],
   "source": [
    "\n",
    "from random import randint,sample\n",
    "card_list=['test' for i in range(100)]\n",
    "card_index=[randint(0,len(card_list)) for i in range(10)]"
   ]
  },
  {
   "cell_type": "code",
   "execution_count": 9,
   "metadata": {},
   "outputs": [
    {
     "data": {
      "text/plain": [
       "[23, 38, 98, 43, 32, 42, 20, 75, 57, 66]"
      ]
     },
     "execution_count": 9,
     "metadata": {},
     "output_type": "execute_result"
    }
   ],
   "source": [
    "card_index"
   ]
  },
  {
   "cell_type": "code",
   "execution_count": 10,
   "metadata": {},
   "outputs": [],
   "source": [
    "card_number=[i for i in range(len(card_list))]"
   ]
  },
  {
   "cell_type": "code",
   "execution_count": 13,
   "metadata": {},
   "outputs": [],
   "source": [
    "card_index=sample(card_number,10)"
   ]
  },
  {
   "cell_type": "code",
   "execution_count": 14,
   "metadata": {},
   "outputs": [
    {
     "data": {
      "text/plain": [
       "[47, 0, 80, 65, 34, 88, 81, 75, 8, 4]"
      ]
     },
     "execution_count": 14,
     "metadata": {},
     "output_type": "execute_result"
    }
   ],
   "source": [
    "card_index"
   ]
  },
  {
   "cell_type": "code",
   "execution_count": 15,
   "metadata": {},
   "outputs": [],
   "source": [
    "card_index.sort()"
   ]
  },
  {
   "cell_type": "code",
   "execution_count": 16,
   "metadata": {},
   "outputs": [
    {
     "data": {
      "text/plain": [
       "[0, 4, 8, 34, 47, 65, 75, 80, 81, 88]"
      ]
     },
     "execution_count": 16,
     "metadata": {},
     "output_type": "execute_result"
    }
   ],
   "source": [
    "card_index"
   ]
  },
  {
   "cell_type": "code",
   "execution_count": 19,
   "metadata": {},
   "outputs": [],
   "source": [
    "package_name_list=[\"基本\",\"陰謀\",\"海辺\",\"錬金術\",\"繁栄\",\"収穫祭\",\"異郷\",\"暗黒時代\",\"ギルト\",\"冒険\",\"帝国\",\"夜想曲\"]\n",
    "package_name_list_eng=[\"basic\",\"intrigue\",\"seaside\",\"alchemy\",\"prosperity\",\"cornucopia\",\"hinterlands\",\"darkage\",\"guild\",\"adventures\",\"empires\",\"nocturne\"]\n",
    "package_dict=dict(zip(package_name_list_eng,package_name_list))"
   ]
  },
  {
   "cell_type": "code",
   "execution_count": 20,
   "metadata": {},
   "outputs": [
    {
     "data": {
      "text/plain": [
       "{'basic': '基本',\n",
       " 'intrigue': '陰謀',\n",
       " 'seaside': '海辺',\n",
       " 'alchemy': '錬金術',\n",
       " 'prosperity': '繁栄',\n",
       " 'cornucopia': '収穫祭',\n",
       " 'hinterlands': '異郷',\n",
       " 'darkage': '暗黒時代',\n",
       " 'guild': 'ギルト',\n",
       " 'adventures': '冒険',\n",
       " 'empires': '帝国',\n",
       " 'nocturne': '夜想曲'}"
      ]
     },
     "execution_count": 20,
     "metadata": {},
     "output_type": "execute_result"
    }
   ],
   "source": [
    "package_dict"
   ]
  },
  {
   "cell_type": "code",
   "execution_count": null,
   "metadata": {},
   "outputs": [],
   "source": []
  }
 ],
 "metadata": {
  "kernelspec": {
   "display_name": "Python 3",
   "language": "python",
   "name": "python3"
  },
  "language_info": {
   "codemirror_mode": {
    "name": "ipython",
    "version": 3
   },
   "file_extension": ".py",
   "mimetype": "text/x-python",
   "name": "python",
   "nbconvert_exporter": "python",
   "pygments_lexer": "ipython3",
   "version": "3.6.1"
  }
 },
 "nbformat": 4,
 "nbformat_minor": 2
}
