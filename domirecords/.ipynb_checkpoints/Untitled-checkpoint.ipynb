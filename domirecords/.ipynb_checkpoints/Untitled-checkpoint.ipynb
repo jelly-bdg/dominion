{
 "cells": [
  {
   "cell_type": "code",
   "execution_count": 4,
   "metadata": {},
   "outputs": [],
   "source": [
    "import csv\n",
    "cardlistname='dominion_cardlist.csv'\n",
    "eventlistname='dominion_eventlist.csv'\n",
    "cardf=open(cardlistname,'r',encoding='utf-8')\n",
    "eventf=open(eventlistname,'r',encoding='utf-8')\n",
    "\n",
    "cardlist=[]\n",
    "eventlist=[]\n",
    "\n",
    "\n",
    "cardreader=csv.reader(cardf)\n",
    "cardheader=next(cardreader)\n",
    "for cardrow in cardreader:\n",
    "    carddict={}\n",
    "    for i in range(len(cardrow)):\n",
    "        carddict[cardheader[int(i)]]=cardrow[int(i)]\n",
    "        cardlist.append(carddict)\n",
    "eventreader=csv.reader(eventf)\n",
    "eventheader=next(eventreader)\n",
    "for eventrow in eventreader:\n",
    "    eventdict={}\n",
    "    for i in range(len(eventrow)):\n",
    "        eventdict[eventheader[int(i)]]=eventrow[(i)]"
   ]
  },
  {
   "cell_type": "code",
   "execution_count": 5,
   "metadata": {},
   "outputs": [
    {
     "data": {
      "text/plain": [
       "{'card_name': '夜襲',\n",
       " 'cost': '6',\n",
       " 'genre': '夜行-アタック',\n",
       " 'package': '夜想曲',\n",
       " 'image': '',\n",
       " 'card_onoff': '',\n",
       " 'wikilink': 'https://wikiwiki.jp/dominiondeck/夜襲'}"
      ]
     },
     "execution_count": 5,
     "metadata": {},
     "output_type": "execute_result"
    }
   ],
   "source": [
    "carddict"
   ]
  },
  {
   "cell_type": "code",
   "execution_count": null,
   "metadata": {},
   "outputs": [],
   "source": []
  }
 ],
 "metadata": {
  "kernelspec": {
   "display_name": "Python 3",
   "language": "python",
   "name": "python3"
  },
  "language_info": {
   "codemirror_mode": {
    "name": "ipython",
    "version": 3
   },
   "file_extension": ".py",
   "mimetype": "text/x-python",
   "name": "python",
   "nbconvert_exporter": "python",
   "pygments_lexer": "ipython3",
   "version": "3.6.1"
  }
 },
 "nbformat": 4,
 "nbformat_minor": 2
}
